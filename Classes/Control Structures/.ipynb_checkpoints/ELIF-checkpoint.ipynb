{
 "cells": [
  {
   "cell_type": "code",
   "execution_count": 2,
   "metadata": {},
   "outputs": [
    {
     "name": "stdout",
     "output_type": "stream",
     "text": [
      "pique macho\n"
     ]
    }
   ],
   "source": [
    "food = \"pique\"\n",
    "\n",
    "if food == \"pique\":\n",
    "    print(\"pique macho\")\n",
    "else:\n",
    "    if food == \"silpancho\":\n",
    "        print(\"silpancho mediano\")\n",
    "    else:\n",
    "        if food == \"milaneza\":\n",
    "            print(\"milaneza mediano\")\n",
    "        else:\n",
    "            if food == \"pollo\":\n",
    "                print(\"pollo lucho\")\n",
    "    "
   ]
  },
  {
   "cell_type": "code",
   "execution_count": 4,
   "metadata": {},
   "outputs": [
    {
     "name": "stdout",
     "output_type": "stream",
     "text": [
      "silpancho mediano\n"
     ]
    }
   ],
   "source": [
    "food = \"silpancho\"\n",
    "\n",
    "if food == \"pique\":\n",
    "    print(\"pique macho\")\n",
    "elif food == \"silpancho\":\n",
    "    print(\"silpancho mediano\")\n",
    "elif food == \"milaneza\":\n",
    "    print(\"milaneza mediano\")        \n",
    "elif food == \"pollo\":\n",
    "    print(\"pollo lucho\")"
   ]
  },
  {
   "cell_type": "code",
   "execution_count": null,
   "metadata": {},
   "outputs": [],
   "source": []
  }
 ],
 "metadata": {
  "kernelspec": {
   "display_name": "Python 3",
   "language": "python",
   "name": "python3"
  },
  "language_info": {
   "codemirror_mode": {
    "name": "ipython",
    "version": 3
   },
   "file_extension": ".py",
   "mimetype": "text/x-python",
   "name": "python",
   "nbconvert_exporter": "python",
   "pygments_lexer": "ipython3",
   "version": "3.7.3"
  }
 },
 "nbformat": 4,
 "nbformat_minor": 2
}
