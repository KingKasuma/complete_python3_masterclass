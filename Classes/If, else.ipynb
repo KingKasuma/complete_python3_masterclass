{
 "cells": [
  {
   "cell_type": "code",
   "execution_count": 5,
   "metadata": {},
   "outputs": [
    {
     "name": "stdout",
     "output_type": "stream",
     "text": [
      "Please go and vote!\n",
      "I am not indented\n"
     ]
    }
   ],
   "source": [
    "n = 19\n",
    "if n < 18:\n",
    "    print(\"you may noy vote\")\n",
    "else:\n",
    "    print(\"Please go and vote!\")\n",
    "    \n",
    "print(\"I am not indented\")"
   ]
  },
  {
   "cell_type": "code",
   "execution_count": 6,
   "metadata": {},
   "outputs": [
    {
     "name": "stdout",
     "output_type": "stream",
     "text": [
      "if condition is not met\n"
     ]
    }
   ],
   "source": [
    "m = 10\n",
    "if m < 5:\n",
    "    print(\"m is lower than 5\")\n",
    "else:\n",
    "    print(\"if condition is not met\")"
   ]
  },
  {
   "cell_type": "code",
   "execution_count": null,
   "metadata": {},
   "outputs": [],
   "source": []
  }
 ],
 "metadata": {
  "kernelspec": {
   "display_name": "Python 3",
   "language": "python",
   "name": "python3"
  },
  "language_info": {
   "codemirror_mode": {
    "name": "ipython",
    "version": 3
   },
   "file_extension": ".py",
   "mimetype": "text/x-python",
   "name": "python",
   "nbconvert_exporter": "python",
   "pygments_lexer": "ipython3",
   "version": "3.7.3"
  }
 },
 "nbformat": 4,
 "nbformat_minor": 2
}
